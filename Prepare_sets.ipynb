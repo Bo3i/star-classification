{
 "cells": [
  {
   "cell_type": "markdown",
   "source": [
    "Poniższy skrypt dzieli zbiór danych na zbiór treningowy i testowy w proporcji 80:20. Zapisuje je do plików csv.\n",
    "# Import bibliotek"
   ],
   "metadata": {
    "collapsed": false
   }
  },
  {
   "cell_type": "code",
   "execution_count": 144,
   "metadata": {
    "collapsed": true,
    "ExecuteTime": {
     "end_time": "2023-06-03T10:12:47.158102600Z",
     "start_time": "2023-06-03T10:12:47.129061Z"
    }
   },
   "outputs": [],
   "source": [
    "import pandas as pd\n",
    "import numpy as np\n",
    "from sklearn.model_selection import train_test_split\n",
    "from sklearn.preprocessing import LabelEncoder"
   ]
  },
  {
   "cell_type": "markdown",
   "source": [
    "# Wczytanie danych"
   ],
   "metadata": {
    "collapsed": false
   }
  },
  {
   "cell_type": "code",
   "execution_count": 145,
   "outputs": [],
   "source": [
    "data = pd.read_csv(\"star_classification.csv\")"
   ],
   "metadata": {
    "collapsed": false,
    "ExecuteTime": {
     "end_time": "2023-06-03T10:12:47.375446700Z",
     "start_time": "2023-06-03T10:12:47.135098400Z"
    }
   }
  },
  {
   "cell_type": "markdown",
   "source": [
    "# Oddzielenie kolumny z klasami od reszty danych\n",
    "Stworzenie LabelEncodera i zakodowanie klas"
   ],
   "metadata": {
    "collapsed": false
   }
  },
  {
   "cell_type": "code",
   "execution_count": 146,
   "outputs": [
    {
     "name": "stdout",
     "output_type": "stream",
     "text": [
      "['GALAXY' 'QSO' 'STAR']\n"
     ]
    }
   ],
   "source": [
    "X = data.drop(\"class\", axis=1)\n",
    "y = data[\"class\"]\n",
    "\n",
    "le = LabelEncoder()\n",
    "y = le.fit_transform(y)\n",
    "print(le.classes_)"
   ],
   "metadata": {
    "collapsed": false,
    "ExecuteTime": {
     "end_time": "2023-06-03T10:12:47.407865400Z",
     "start_time": "2023-06-03T10:12:47.375446700Z"
    }
   }
  },
  {
   "cell_type": "markdown",
   "source": [
    "# Podział danych na zbiór treningowy i testowy"
   ],
   "metadata": {
    "collapsed": false
   }
  },
  {
   "cell_type": "code",
   "execution_count": 147,
   "outputs": [],
   "source": [
    "X_train, X_test, y_train, y_test = train_test_split(X, y, test_size=0.2, random_state=42)"
   ],
   "metadata": {
    "collapsed": false,
    "ExecuteTime": {
     "end_time": "2023-06-03T10:12:47.439899100Z",
     "start_time": "2023-06-03T10:12:47.403865Z"
    }
   }
  },
  {
   "cell_type": "code",
   "execution_count": 149,
   "outputs": [],
   "source": [
    "headerX = pd.DataFrame(columns=['obj_ID', 'alpha', 'delta', 'u', 'g', 'r', 'i', 'z', 'run_ID', 'rerun_ID', 'cam_col',\n",
    "                               'field_ID', 'spec_obj_ID', 'redshift', 'plate', 'MJD', 'fiber_ID'])\n",
    "headerY = pd.DataFrame(columns=['class'])\n",
    "\n",
    "\n",
    "\n",
    "# Concatenate the header DataFrame with the original data DataFrame\n"
   ],
   "metadata": {
    "collapsed": false,
    "ExecuteTime": {
     "end_time": "2023-06-03T10:12:47.454638200Z",
     "start_time": "2023-06-03T10:12:47.439899100Z"
    }
   }
  },
  {
   "cell_type": "code",
   "execution_count": 151,
   "outputs": [],
   "source": [
    "X_train = pd.concat([headerX, X_train], axis=0)\n",
    "X_test = pd.concat([headerX, X_test], axis=0)\n"
   ],
   "metadata": {
    "collapsed": false,
    "ExecuteTime": {
     "end_time": "2023-06-03T10:12:47.501812600Z",
     "start_time": "2023-06-03T10:12:47.468986200Z"
    }
   }
  },
  {
   "cell_type": "code",
   "execution_count": 153,
   "outputs": [
    {
     "name": "stdout",
     "output_type": "stream",
     "text": [
      "Training set column names: ['obj_ID', 'alpha', 'delta', 'u', 'g', 'r', 'i', 'z', 'run_ID', 'rerun_ID', 'cam_col', 'field_ID', 'spec_obj_ID', 'redshift', 'plate', 'MJD', 'fiber_ID']\n",
      "Testing set column names: ['obj_ID', 'alpha', 'delta', 'u', 'g', 'r', 'i', 'z', 'run_ID', 'rerun_ID', 'cam_col', 'field_ID', 'spec_obj_ID', 'redshift', 'plate', 'MJD', 'fiber_ID']\n"
     ]
    }
   ],
   "source": [
    "print(\"Training set column names:\", list(X_train.columns))\n",
    "print(\"Testing set column names:\", list(X_test.columns))"
   ],
   "metadata": {
    "collapsed": false,
    "ExecuteTime": {
     "end_time": "2023-06-03T10:12:47.526869500Z",
     "start_time": "2023-06-03T10:12:47.515296Z"
    }
   }
  },
  {
   "cell_type": "markdown",
   "source": [
    "# Zapisanie danych do plików csv"
   ],
   "metadata": {
    "collapsed": false
   }
  },
  {
   "cell_type": "code",
   "execution_count": 155,
   "outputs": [],
   "source": [
    "X_train.to_csv(\"X_train.csv\", index=False)\n",
    "X_test.to_csv(\"X_test.csv\", index=False)\n",
    "np.savetxt(\"y_train.csv\", y_train, delimiter=\",\")\n",
    "np.savetxt(\"y_test.csv\", y_test, delimiter=\",\")"
   ],
   "metadata": {
    "collapsed": false,
    "ExecuteTime": {
     "end_time": "2023-06-03T10:13:21.650159700Z",
     "start_time": "2023-06-03T10:13:19.547598200Z"
    }
   }
  }
 ],
 "metadata": {
  "kernelspec": {
   "display_name": "Python 3",
   "language": "python",
   "name": "python3"
  },
  "language_info": {
   "codemirror_mode": {
    "name": "ipython",
    "version": 2
   },
   "file_extension": ".py",
   "mimetype": "text/x-python",
   "name": "python",
   "nbconvert_exporter": "python",
   "pygments_lexer": "ipython2",
   "version": "2.7.6"
  }
 },
 "nbformat": 4,
 "nbformat_minor": 0
}
