{
 "cells": [
  {
   "cell_type": "code",
   "execution_count": 38,
   "metadata": {
    "collapsed": true,
    "ExecuteTime": {
     "end_time": "2023-06-03T09:13:34.302814Z",
     "start_time": "2023-06-03T09:13:34.293304300Z"
    }
   },
   "outputs": [],
   "source": [
    "import pandas as pd\n",
    "from sklearn.metrics import accuracy_score"
   ]
  },
  {
   "cell_type": "code",
   "execution_count": 35,
   "outputs": [],
   "source": [
    "proba_dt = pd.read_csv(\"y_pred_proba_dt.csv\")\n",
    "proba_rf = pd.read_csv(\"y_pred_proba_rf.csv\")\n",
    "proba_knn = pd.read_csv(\"y_pred_proba_knn.csv\")\n",
    "y_test = pd.read_csv(\"y_test.csv\")"
   ],
   "metadata": {
    "collapsed": false,
    "ExecuteTime": {
     "end_time": "2023-06-03T09:12:39.343987300Z",
     "start_time": "2023-06-03T09:12:39.275181800Z"
    }
   }
  },
  {
   "cell_type": "code",
   "execution_count": 32,
   "outputs": [
    {
     "data": {
      "text/plain": "              0         1         2\n0      0.036586  0.007832  0.288915\n1      0.300771  0.023587  0.008975\n2      0.259866  0.058934  0.014534\n3      0.331734  0.000893  0.000706\n4      0.331951  0.001102  0.000281\n...         ...       ...       ...\n19995  0.325747  0.006748  0.000838\n19996  0.318843  0.007587  0.006904\n19997  0.298769  0.007660  0.026904\n19998  0.331809  0.001319  0.000206\n19999  0.014484  0.295393  0.023457\n\n[20000 rows x 3 columns]",
      "text/html": "<div>\n<style scoped>\n    .dataframe tbody tr th:only-of-type {\n        vertical-align: middle;\n    }\n\n    .dataframe tbody tr th {\n        vertical-align: top;\n    }\n\n    .dataframe thead th {\n        text-align: right;\n    }\n</style>\n<table border=\"1\" class=\"dataframe\">\n  <thead>\n    <tr style=\"text-align: right;\">\n      <th></th>\n      <th>0</th>\n      <th>1</th>\n      <th>2</th>\n    </tr>\n  </thead>\n  <tbody>\n    <tr>\n      <th>0</th>\n      <td>0.036586</td>\n      <td>0.007832</td>\n      <td>0.288915</td>\n    </tr>\n    <tr>\n      <th>1</th>\n      <td>0.300771</td>\n      <td>0.023587</td>\n      <td>0.008975</td>\n    </tr>\n    <tr>\n      <th>2</th>\n      <td>0.259866</td>\n      <td>0.058934</td>\n      <td>0.014534</td>\n    </tr>\n    <tr>\n      <th>3</th>\n      <td>0.331734</td>\n      <td>0.000893</td>\n      <td>0.000706</td>\n    </tr>\n    <tr>\n      <th>4</th>\n      <td>0.331951</td>\n      <td>0.001102</td>\n      <td>0.000281</td>\n    </tr>\n    <tr>\n      <th>...</th>\n      <td>...</td>\n      <td>...</td>\n      <td>...</td>\n    </tr>\n    <tr>\n      <th>19995</th>\n      <td>0.325747</td>\n      <td>0.006748</td>\n      <td>0.000838</td>\n    </tr>\n    <tr>\n      <th>19996</th>\n      <td>0.318843</td>\n      <td>0.007587</td>\n      <td>0.006904</td>\n    </tr>\n    <tr>\n      <th>19997</th>\n      <td>0.298769</td>\n      <td>0.007660</td>\n      <td>0.026904</td>\n    </tr>\n    <tr>\n      <th>19998</th>\n      <td>0.331809</td>\n      <td>0.001319</td>\n      <td>0.000206</td>\n    </tr>\n    <tr>\n      <th>19999</th>\n      <td>0.014484</td>\n      <td>0.295393</td>\n      <td>0.023457</td>\n    </tr>\n  </tbody>\n</table>\n<p>20000 rows × 3 columns</p>\n</div>"
     },
     "execution_count": 32,
     "metadata": {},
     "output_type": "execute_result"
    }
   ],
   "source": [
    "#calculating the weighted average of the probabilities\n",
    "w_dt = 0.4\n",
    "w_rf = 0.4\n",
    "w_knn = 0.2\n",
    "proba = (proba_dt*w_dt + proba_rf*w_rf + proba_knn*w_knn)/3\n",
    "proba"
   ],
   "metadata": {
    "collapsed": false,
    "ExecuteTime": {
     "end_time": "2023-06-03T09:11:33.812310300Z",
     "start_time": "2023-06-03T09:11:33.800542500Z"
    }
   }
  },
  {
   "cell_type": "code",
   "execution_count": 34,
   "outputs": [
    {
     "data": {
      "text/plain": "0        2\n1        0\n2        0\n3        0\n4        0\n        ..\n19995    0\n19996    0\n19997    0\n19998    0\n19999    1\nLength: 20000, dtype: object"
     },
     "execution_count": 34,
     "metadata": {},
     "output_type": "execute_result"
    }
   ],
   "source": [
    "#predicting the class\n",
    "y_pred = proba[['0', '1', '2']].apply(lambda x: x.idxmax(), axis=1)\n",
    "y_pred\n"
   ],
   "metadata": {
    "collapsed": false,
    "ExecuteTime": {
     "end_time": "2023-06-03T09:11:45.598519500Z",
     "start_time": "2023-06-03T09:11:44.688624Z"
    }
   }
  },
  {
   "cell_type": "code",
   "execution_count": 36,
   "outputs": [
    {
     "name": "stdout",
     "output_type": "stream",
     "text": [
      "Accuracy: 0.0\n"
     ]
    }
   ],
   "source": [
    "#calculating the accuracy\n",
    "accuracy = accuracy_score(y_test, y_pred)\n",
    "print(\"Accuracy:\", accuracy)"
   ],
   "metadata": {
    "collapsed": false,
    "ExecuteTime": {
     "end_time": "2023-06-03T09:12:41.547578900Z",
     "start_time": "2023-06-03T09:12:41.308343400Z"
    }
   }
  },
  {
   "cell_type": "code",
   "execution_count": null,
   "outputs": [],
   "source": [],
   "metadata": {
    "collapsed": false
   }
  }
 ],
 "metadata": {
  "kernelspec": {
   "display_name": "Python 3",
   "language": "python",
   "name": "python3"
  },
  "language_info": {
   "codemirror_mode": {
    "name": "ipython",
    "version": 2
   },
   "file_extension": ".py",
   "mimetype": "text/x-python",
   "name": "python",
   "nbconvert_exporter": "python",
   "pygments_lexer": "ipython2",
   "version": "2.7.6"
  }
 },
 "nbformat": 4,
 "nbformat_minor": 0
}
