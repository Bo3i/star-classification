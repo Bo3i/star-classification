{
 "cells": [
  {
   "cell_type": "markdown",
   "source": [
    "Poniższy skrypt dzieli zbiór danych na zbiór treningowy i testowy w proporcji 80:20. Zapisuje je do plików csv.\n",
    "# Import bibliotek"
   ],
   "metadata": {
    "collapsed": false
   }
  },
  {
   "cell_type": "code",
   "execution_count": 1,
   "metadata": {
    "collapsed": true,
    "ExecuteTime": {
     "end_time": "2023-06-12T14:58:45.930055800Z",
     "start_time": "2023-06-12T14:58:45.391412800Z"
    }
   },
   "outputs": [],
   "source": [
    "import pandas as pd\n",
    "from sklearn.model_selection import train_test_split\n",
    "from sklearn.preprocessing import LabelEncoder"
   ]
  },
  {
   "cell_type": "markdown",
   "source": [
    "# Wczytanie danych"
   ],
   "metadata": {
    "collapsed": false
   }
  },
  {
   "cell_type": "code",
   "execution_count": 2,
   "outputs": [],
   "source": [
    "data = pd.read_csv(\"star_classification.csv\")"
   ],
   "metadata": {
    "collapsed": false,
    "ExecuteTime": {
     "end_time": "2023-06-12T14:58:46.168747500Z",
     "start_time": "2023-06-12T14:58:45.930055800Z"
    }
   }
  },
  {
   "cell_type": "markdown",
   "source": [
    "# Oddzielenie kolumny z klasami od reszty danych\n",
    "Stworzenie LabelEncodera i zakodowanie klas"
   ],
   "metadata": {
    "collapsed": false
   }
  },
  {
   "cell_type": "code",
   "execution_count": 3,
   "outputs": [
    {
     "name": "stdout",
     "output_type": "stream",
     "text": [
      "['GALAXY' 'QSO' 'STAR']\n"
     ]
    }
   ],
   "source": [
    "X = data.drop(\"class\", axis=1)\n",
    "y = data[\"class\"]\n",
    "\n",
    "le = LabelEncoder()\n",
    "y = le.fit_transform(y)\n",
    "print(le.classes_)"
   ],
   "metadata": {
    "collapsed": false,
    "ExecuteTime": {
     "end_time": "2023-06-12T14:58:46.199752900Z",
     "start_time": "2023-06-12T14:58:46.167746300Z"
    }
   }
  },
  {
   "cell_type": "markdown",
   "source": [
    "# Podział danych na zbiór treningowy i testowy"
   ],
   "metadata": {
    "collapsed": false
   }
  },
  {
   "cell_type": "code",
   "execution_count": 4,
   "outputs": [],
   "source": [
    "X_train, X_test, y_train, y_test = train_test_split(X, y, test_size=0.2, random_state=42)"
   ],
   "metadata": {
    "collapsed": false,
    "ExecuteTime": {
     "end_time": "2023-06-12T14:58:46.248314700Z",
     "start_time": "2023-06-12T14:58:46.197753Z"
    }
   }
  },
  {
   "cell_type": "code",
   "execution_count": 5,
   "outputs": [],
   "source": [
    "headerX = pd.DataFrame(columns=['obj_ID', 'alpha', 'delta', 'u', 'g', 'r', 'i', 'z', 'run_ID', 'rerun_ID', 'cam_col',\n",
    "                               'field_ID', 'spec_obj_ID', 'redshift', 'plate', 'MJD', 'fiber_ID'])\n",
    "headerY = pd.DataFrame(columns=['class'])\n",
    "\n",
    "\n",
    "\n",
    "# Concatenate the header DataFrame with the original data DataFrame\n"
   ],
   "metadata": {
    "collapsed": false,
    "ExecuteTime": {
     "end_time": "2023-06-12T14:58:46.261668300Z",
     "start_time": "2023-06-12T14:58:46.223312800Z"
    }
   }
  },
  {
   "cell_type": "code",
   "execution_count": 6,
   "outputs": [],
   "source": [
    "X_train = pd.concat([headerX, X_train], axis=0)\n",
    "X_test = pd.concat([headerX, X_test], axis=0)\n"
   ],
   "metadata": {
    "collapsed": false,
    "ExecuteTime": {
     "end_time": "2023-06-12T14:58:46.262666400Z",
     "start_time": "2023-06-12T14:58:46.230311700Z"
    }
   }
  },
  {
   "cell_type": "code",
   "execution_count": 7,
   "outputs": [
    {
     "name": "stdout",
     "output_type": "stream",
     "text": [
      "Training set column names: ['obj_ID', 'alpha', 'delta', 'u', 'g', 'r', 'i', 'z', 'run_ID', 'rerun_ID', 'cam_col', 'field_ID', 'spec_obj_ID', 'redshift', 'plate', 'MJD', 'fiber_ID']\n",
      "Testing set column names: ['obj_ID', 'alpha', 'delta', 'u', 'g', 'r', 'i', 'z', 'run_ID', 'rerun_ID', 'cam_col', 'field_ID', 'spec_obj_ID', 'redshift', 'plate', 'MJD', 'fiber_ID']\n"
     ]
    }
   ],
   "source": [
    "print(\"Training set column names:\", list(X_train.columns))\n",
    "print(\"Testing set column names:\", list(X_test.columns))"
   ],
   "metadata": {
    "collapsed": false,
    "ExecuteTime": {
     "end_time": "2023-06-12T14:58:46.269203600Z",
     "start_time": "2023-06-12T14:58:46.262666400Z"
    }
   }
  },
  {
   "cell_type": "markdown",
   "source": [
    "# Zapisanie danych do plików csv"
   ],
   "metadata": {
    "collapsed": false
   }
  },
  {
   "cell_type": "code",
   "execution_count": 8,
   "outputs": [],
   "source": [
    "X_train.to_csv(\"X_train.csv\", index=False)\n",
    "X_test.to_csv(\"X_test.csv\", index=False)\n",
    "y_train = pd.DataFrame(y_train, columns=['class'])\n",
    "y_test = pd.DataFrame(y_test, columns=['class'])\n",
    "y_test.to_csv(\"y_test.csv\", index=False)\n",
    "y_train.to_csv(\"y_train.csv\", index=False)"
   ],
   "metadata": {
    "collapsed": false,
    "ExecuteTime": {
     "end_time": "2023-06-12T14:58:47.920326Z",
     "start_time": "2023-06-12T14:58:46.268203300Z"
    }
   }
  }
 ],
 "metadata": {
  "kernelspec": {
   "display_name": "Python 3",
   "language": "python",
   "name": "python3"
  },
  "language_info": {
   "codemirror_mode": {
    "name": "ipython",
    "version": 2
   },
   "file_extension": ".py",
   "mimetype": "text/x-python",
   "name": "python",
   "nbconvert_exporter": "python",
   "pygments_lexer": "ipython2",
   "version": "2.7.6"
  }
 },
 "nbformat": 4,
 "nbformat_minor": 0
}
