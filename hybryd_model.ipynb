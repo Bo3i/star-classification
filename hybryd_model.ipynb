{
 "cells": [
  {
   "cell_type": "markdown",
   "source": [
    "# MODEL HYBRYDOWY\n",
    "Importownie bibliotek"
   ],
   "metadata": {
    "collapsed": false
   }
  },
  {
   "cell_type": "code",
   "execution_count": 2,
   "metadata": {
    "collapsed": true,
    "ExecuteTime": {
     "end_time": "2023-06-12T16:57:08.500951900Z",
     "start_time": "2023-06-12T16:57:08.131356700Z"
    }
   },
   "outputs": [],
   "source": [
    "import pandas as pd\n",
    "from sklearn.metrics import accuracy_score\n",
    "from sklearn.metrics import confusion_matrix\n",
    "from sklearn.metrics import f1_score"
   ]
  },
  {
   "cell_type": "markdown",
   "source": [
    "# Wczytanie danych"
   ],
   "metadata": {
    "collapsed": false
   }
  },
  {
   "cell_type": "code",
   "execution_count": 3,
   "outputs": [],
   "source": [
    "proba_bay = pd.read_csv(\"y_pred_proba_bay.csv\")\n",
    "proba_rf = pd.read_csv(\"y_pred_proba_rf.csv\")\n",
    "proba_knn = pd.read_csv(\"y_pred_proba_knn.csv\")\n",
    "y_test = pd.read_csv(\"y_test.csv\")"
   ],
   "metadata": {
    "collapsed": false,
    "ExecuteTime": {
     "end_time": "2023-06-12T16:57:08.579532700Z",
     "start_time": "2023-06-12T16:57:08.492950100Z"
    }
   }
  },
  {
   "cell_type": "markdown",
   "source": [
    "# Tworzenie modelu hybrydowego\n",
    "Przypisujemy wagę do każdego modelu"
   ],
   "metadata": {
    "collapsed": false
   }
  },
  {
   "cell_type": "code",
   "execution_count": 4,
   "outputs": [
    {
     "data": {
      "text/plain": "              0         1         2\n0      0.220244  0.079111  0.033979\n1      0.277185  0.020888  0.035261\n2      0.050756  0.058625  0.223952\n3      0.310239  0.004548  0.018547\n4      0.034548  0.004384  0.294402\n...         ...       ...       ...\n19996  0.102684  0.040615  0.190034\n19997  0.304483  0.004953  0.023898\n19998  0.313464  0.004617  0.015252\n19999  0.086225  0.225726  0.021382\n20000  0.294376  0.028793  0.010164\n\n[20001 rows x 3 columns]",
      "text/html": "<div>\n<style scoped>\n    .dataframe tbody tr th:only-of-type {\n        vertical-align: middle;\n    }\n\n    .dataframe tbody tr th {\n        vertical-align: top;\n    }\n\n    .dataframe thead th {\n        text-align: right;\n    }\n</style>\n<table border=\"1\" class=\"dataframe\">\n  <thead>\n    <tr style=\"text-align: right;\">\n      <th></th>\n      <th>0</th>\n      <th>1</th>\n      <th>2</th>\n    </tr>\n  </thead>\n  <tbody>\n    <tr>\n      <th>0</th>\n      <td>0.220244</td>\n      <td>0.079111</td>\n      <td>0.033979</td>\n    </tr>\n    <tr>\n      <th>1</th>\n      <td>0.277185</td>\n      <td>0.020888</td>\n      <td>0.035261</td>\n    </tr>\n    <tr>\n      <th>2</th>\n      <td>0.050756</td>\n      <td>0.058625</td>\n      <td>0.223952</td>\n    </tr>\n    <tr>\n      <th>3</th>\n      <td>0.310239</td>\n      <td>0.004548</td>\n      <td>0.018547</td>\n    </tr>\n    <tr>\n      <th>4</th>\n      <td>0.034548</td>\n      <td>0.004384</td>\n      <td>0.294402</td>\n    </tr>\n    <tr>\n      <th>...</th>\n      <td>...</td>\n      <td>...</td>\n      <td>...</td>\n    </tr>\n    <tr>\n      <th>19996</th>\n      <td>0.102684</td>\n      <td>0.040615</td>\n      <td>0.190034</td>\n    </tr>\n    <tr>\n      <th>19997</th>\n      <td>0.304483</td>\n      <td>0.004953</td>\n      <td>0.023898</td>\n    </tr>\n    <tr>\n      <th>19998</th>\n      <td>0.313464</td>\n      <td>0.004617</td>\n      <td>0.015252</td>\n    </tr>\n    <tr>\n      <th>19999</th>\n      <td>0.086225</td>\n      <td>0.225726</td>\n      <td>0.021382</td>\n    </tr>\n    <tr>\n      <th>20000</th>\n      <td>0.294376</td>\n      <td>0.028793</td>\n      <td>0.010164</td>\n    </tr>\n  </tbody>\n</table>\n<p>20001 rows × 3 columns</p>\n</div>"
     },
     "execution_count": 4,
     "metadata": {},
     "output_type": "execute_result"
    }
   ],
   "source": [
    "w_bay = 0.15\n",
    "w_rf = 0.6\n",
    "w_knn = 0.25\n",
    "proba = (proba_bay*w_bay + proba_rf*w_rf + proba_knn*w_knn)/3\n",
    "proba"
   ],
   "metadata": {
    "collapsed": false,
    "ExecuteTime": {
     "end_time": "2023-06-12T16:57:08.634563500Z",
     "start_time": "2023-06-12T16:57:08.569532Z"
    }
   }
  },
  {
   "cell_type": "markdown",
   "source": [
    "# Predykcje"
   ],
   "metadata": {
    "collapsed": false
   }
  },
  {
   "cell_type": "code",
   "execution_count": 5,
   "outputs": [
    {
     "data": {
      "text/plain": "0        0\n1        0\n2        2\n3        0\n4        2\n        ..\n19996    2\n19997    0\n19998    0\n19999    1\n20000    0\nLength: 20001, dtype: int32"
     },
     "execution_count": 5,
     "metadata": {},
     "output_type": "execute_result"
    }
   ],
   "source": [
    "y_pred = proba[['0', '1','2']].apply(lambda x: x.idxmax(), axis=1)\n",
    "y_pred = y_pred.astype(int)\n",
    "y_pred"
   ],
   "metadata": {
    "collapsed": false,
    "ExecuteTime": {
     "end_time": "2023-06-12T16:57:09.547859300Z",
     "start_time": "2023-06-12T16:57:08.590553900Z"
    }
   }
  },
  {
   "cell_type": "markdown",
   "source": [
    "# Accuracy score"
   ],
   "metadata": {
    "collapsed": false
   }
  },
  {
   "cell_type": "code",
   "execution_count": 6,
   "outputs": [
    {
     "name": "stdout",
     "output_type": "stream",
     "text": [
      "Accuracy: 0.9739513024348783\n"
     ]
    }
   ],
   "source": [
    "accuracy = accuracy_score(y_test, y_pred)\n",
    "print(\"Accuracy:\", accuracy)"
   ],
   "metadata": {
    "collapsed": false,
    "ExecuteTime": {
     "end_time": "2023-06-12T16:57:09.569864600Z",
     "start_time": "2023-06-12T16:57:09.547859300Z"
    }
   }
  },
  {
   "cell_type": "markdown",
   "source": [
    "# F1 score"
   ],
   "metadata": {
    "collapsed": false
   }
  },
  {
   "cell_type": "code",
   "execution_count": 7,
   "outputs": [
    {
     "name": "stdout",
     "output_type": "stream",
     "text": [
      "F1: 0.9691445415329313\n"
     ]
    }
   ],
   "source": [
    "f1 = f1_score(y_test, y_pred, average='macro')\n",
    "print(\"F1:\", f1)"
   ],
   "metadata": {
    "collapsed": false,
    "ExecuteTime": {
     "end_time": "2023-06-12T16:57:09.569864600Z",
     "start_time": "2023-06-12T16:57:09.548860500Z"
    }
   }
  },
  {
   "cell_type": "markdown",
   "source": [
    "# Confusion matrix"
   ],
   "metadata": {
    "collapsed": false
   }
  },
  {
   "cell_type": "code",
   "execution_count": 8,
   "outputs": [
    {
     "data": {
      "text/plain": "array([[11764,   110,    43],\n       [  361,  3378,     0],\n       [    7,     0,  4338]], dtype=int64)"
     },
     "execution_count": 8,
     "metadata": {},
     "output_type": "execute_result"
    }
   ],
   "source": [
    "confusion_matrix(y_test, y_pred)"
   ],
   "metadata": {
    "collapsed": false,
    "ExecuteTime": {
     "end_time": "2023-06-12T16:57:09.570865Z",
     "start_time": "2023-06-12T16:57:09.548860500Z"
    }
   }
  }
 ],
 "metadata": {
  "kernelspec": {
   "display_name": "Python 3",
   "language": "python",
   "name": "python3"
  },
  "language_info": {
   "codemirror_mode": {
    "name": "ipython",
    "version": 2
   },
   "file_extension": ".py",
   "mimetype": "text/x-python",
   "name": "python",
   "nbconvert_exporter": "python",
   "pygments_lexer": "ipython2",
   "version": "2.7.6"
  }
 },
 "nbformat": 4,
 "nbformat_minor": 0
}
