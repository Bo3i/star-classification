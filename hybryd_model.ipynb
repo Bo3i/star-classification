{
 "cells": [
  {
   "cell_type": "markdown",
   "source": [
    "Ten skrypt wykorzystuje wyniki otrzymane przy działaniu trzech wybranych przez nas metod: KNN, random forest i metody Bayesa.\n",
    "Liczy średnią ważoną prawdopodobieństw i na podstawie tego dokonuje predykcji.\n",
    "# Importowanie bibliotek"
   ],
   "metadata": {
    "collapsed": false
   }
  },
  {
   "cell_type": "code",
   "execution_count": 28,
   "metadata": {
    "collapsed": true,
    "ExecuteTime": {
     "end_time": "2023-06-07T21:01:02.785435600Z",
     "start_time": "2023-06-07T21:01:02.761280200Z"
    }
   },
   "outputs": [],
   "source": [
    "import pandas as pd\n",
    "from sklearn.metrics import accuracy_score\n",
    "from sklearn.metrics import f1_score\n",
    "from sklearn.metrics import confusion_matrix"
   ]
  },
  {
   "cell_type": "markdown",
   "source": [
    "# Wczytywanie danych"
   ],
   "metadata": {
    "collapsed": false
   }
  },
  {
   "cell_type": "code",
   "execution_count": 22,
   "outputs": [],
   "source": [
    "proba_bay = pd.read_csv(\"y_pred_proba_bay.csv\")\n",
    "proba_rf = pd.read_csv(\"y_pred_proba_rf.csv\")\n",
    "proba_knn = pd.read_csv(\"y_pred_proba_knn.csv\")\n",
    "y_test = pd.read_csv(\"y_test.csv\")"
   ],
   "metadata": {
    "collapsed": false,
    "ExecuteTime": {
     "end_time": "2023-06-07T20:56:26.148968600Z",
     "start_time": "2023-06-07T20:56:26.068705200Z"
    }
   }
  },
  {
   "cell_type": "markdown",
   "source": [
    "# Obliczanie średniej ważonej prawdopodobieństwa"
   ],
   "metadata": {
    "collapsed": false
   }
  },
  {
   "cell_type": "code",
   "execution_count": 23,
   "outputs": [
    {
     "data": {
      "text/plain": "              0         1         2\n0      0.213668  0.078837  0.040828\n1      0.276861  0.020924  0.035548\n2      0.049122  0.055338  0.228873\n3      0.313755  0.004314  0.015265\n4      0.032946  0.004172  0.296215\n...         ...       ...       ...\n19996  0.105007  0.041372  0.186955\n19997  0.304750  0.004810  0.023773\n19998  0.313557  0.004463  0.015313\n19999  0.086666  0.225928  0.020739\n20000  0.294128  0.028713  0.010492\n\n[20001 rows x 3 columns]",
      "text/html": "<div>\n<style scoped>\n    .dataframe tbody tr th:only-of-type {\n        vertical-align: middle;\n    }\n\n    .dataframe tbody tr th {\n        vertical-align: top;\n    }\n\n    .dataframe thead th {\n        text-align: right;\n    }\n</style>\n<table border=\"1\" class=\"dataframe\">\n  <thead>\n    <tr style=\"text-align: right;\">\n      <th></th>\n      <th>0</th>\n      <th>1</th>\n      <th>2</th>\n    </tr>\n  </thead>\n  <tbody>\n    <tr>\n      <th>0</th>\n      <td>0.213668</td>\n      <td>0.078837</td>\n      <td>0.040828</td>\n    </tr>\n    <tr>\n      <th>1</th>\n      <td>0.276861</td>\n      <td>0.020924</td>\n      <td>0.035548</td>\n    </tr>\n    <tr>\n      <th>2</th>\n      <td>0.049122</td>\n      <td>0.055338</td>\n      <td>0.228873</td>\n    </tr>\n    <tr>\n      <th>3</th>\n      <td>0.313755</td>\n      <td>0.004314</td>\n      <td>0.015265</td>\n    </tr>\n    <tr>\n      <th>4</th>\n      <td>0.032946</td>\n      <td>0.004172</td>\n      <td>0.296215</td>\n    </tr>\n    <tr>\n      <th>...</th>\n      <td>...</td>\n      <td>...</td>\n      <td>...</td>\n    </tr>\n    <tr>\n      <th>19996</th>\n      <td>0.105007</td>\n      <td>0.041372</td>\n      <td>0.186955</td>\n    </tr>\n    <tr>\n      <th>19997</th>\n      <td>0.304750</td>\n      <td>0.004810</td>\n      <td>0.023773</td>\n    </tr>\n    <tr>\n      <th>19998</th>\n      <td>0.313557</td>\n      <td>0.004463</td>\n      <td>0.015313</td>\n    </tr>\n    <tr>\n      <th>19999</th>\n      <td>0.086666</td>\n      <td>0.225928</td>\n      <td>0.020739</td>\n    </tr>\n    <tr>\n      <th>20000</th>\n      <td>0.294128</td>\n      <td>0.028713</td>\n      <td>0.010492</td>\n    </tr>\n  </tbody>\n</table>\n<p>20001 rows × 3 columns</p>\n</div>"
     },
     "execution_count": 23,
     "metadata": {},
     "output_type": "execute_result"
    }
   ],
   "source": [
    "w_bay = 0.15\n",
    "w_rf = 0.6\n",
    "w_knn = 0.25\n",
    "proba = (proba_bay*w_bay + proba_rf*w_rf + proba_knn*w_knn)/3\n",
    "proba"
   ],
   "metadata": {
    "collapsed": false,
    "ExecuteTime": {
     "end_time": "2023-06-07T20:56:29.538735100Z",
     "start_time": "2023-06-07T20:56:29.491827500Z"
    }
   }
  },
  {
   "cell_type": "markdown",
   "source": [
    "# Predykcja klas"
   ],
   "metadata": {
    "collapsed": false
   }
  },
  {
   "cell_type": "code",
   "execution_count": 25,
   "outputs": [
    {
     "data": {
      "text/plain": "0        0\n1        0\n2        2\n3        0\n4        2\n        ..\n19996    2\n19997    0\n19998    0\n19999    1\n20000    0\nLength: 20001, dtype: int32"
     },
     "execution_count": 25,
     "metadata": {},
     "output_type": "execute_result"
    }
   ],
   "source": [
    "y_pred = proba[['0', '1','2']].apply(lambda x: x.idxmax(), axis=1)\n",
    "y_pred = y_pred.astype(int)\n",
    "y_pred"
   ],
   "metadata": {
    "collapsed": false,
    "ExecuteTime": {
     "end_time": "2023-06-07T20:58:22.764687800Z",
     "start_time": "2023-06-07T20:58:21.757818900Z"
    }
   }
  },
  {
   "cell_type": "markdown",
   "source": [
    "# Accuracy score"
   ],
   "metadata": {
    "collapsed": false
   }
  },
  {
   "cell_type": "code",
   "execution_count": 26,
   "outputs": [
    {
     "name": "stdout",
     "output_type": "stream",
     "text": [
      "Accuracy: 0.9738013099345033\n"
     ]
    }
   ],
   "source": [
    "accuracy = accuracy_score(y_test, y_pred)\n",
    "print(\"Accuracy:\", accuracy)"
   ],
   "metadata": {
    "collapsed": false,
    "ExecuteTime": {
     "end_time": "2023-06-07T20:59:14.036860700Z",
     "start_time": "2023-06-07T20:59:13.959120900Z"
    }
   }
  },
  {
   "cell_type": "markdown",
   "source": [
    "# F1 score dla modelu hybrydowego"
   ],
   "metadata": {
    "collapsed": false
   }
  },
  {
   "cell_type": "code",
   "execution_count": 27,
   "outputs": [
    {
     "name": "stdout",
     "output_type": "stream",
     "text": [
      "F1: 0.9735195220069294\n"
     ]
    }
   ],
   "source": [
    "f1 = f1_score(y_test, y_pred, average='weighted')\n",
    "print(\"F1:\", f1)"
   ],
   "metadata": {
    "collapsed": false,
    "ExecuteTime": {
     "end_time": "2023-06-07T20:59:18.740360500Z",
     "start_time": "2023-06-07T20:59:18.715605800Z"
    }
   }
  },
  {
   "cell_type": "markdown",
   "source": [
    "# Confusion matrix"
   ],
   "metadata": {
    "collapsed": false
   }
  },
  {
   "cell_type": "code",
   "execution_count": 29,
   "outputs": [
    {
     "data": {
      "text/plain": "array([[11759,   114,    44],\n       [  359,  3380,     0],\n       [    7,     0,  4338]], dtype=int64)"
     },
     "execution_count": 29,
     "metadata": {},
     "output_type": "execute_result"
    }
   ],
   "source": [
    "confusion_matrix(y_test, y_pred)"
   ],
   "metadata": {
    "collapsed": false,
    "ExecuteTime": {
     "end_time": "2023-06-07T21:01:37.505160900Z",
     "start_time": "2023-06-07T21:01:37.464668200Z"
    }
   }
  },
  {
   "cell_type": "code",
   "execution_count": null,
   "outputs": [],
   "source": [],
   "metadata": {
    "collapsed": false
   }
  }
 ],
 "metadata": {
  "kernelspec": {
   "display_name": "Python 3",
   "language": "python",
   "name": "python3"
  },
  "language_info": {
   "codemirror_mode": {
    "name": "ipython",
    "version": 2
   },
   "file_extension": ".py",
   "mimetype": "text/x-python",
   "name": "python",
   "nbconvert_exporter": "python",
   "pygments_lexer": "ipython2",
   "version": "2.7.6"
  }
 },
 "nbformat": 4,
 "nbformat_minor": 0
}
