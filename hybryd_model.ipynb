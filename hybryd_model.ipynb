{
 "cells": [
  {
   "cell_type": "markdown",
   "source": [
    "# MODEL HYBRYDOWY\n",
    "Wczytanie bibliotek"
   ],
   "metadata": {
    "collapsed": false
   }
  },
  {
   "cell_type": "code",
   "execution_count": 45,
   "metadata": {
    "collapsed": true,
    "ExecuteTime": {
     "end_time": "2023-06-11T19:06:15.333303700Z",
     "start_time": "2023-06-11T19:06:15.266161500Z"
    }
   },
   "outputs": [],
   "source": [
    "import pandas as pd\n",
    "from sklearn.metrics import accuracy_score\n",
    "from sklearn.metrics import confusion_matrix\n",
    "from sklearn.metrics import f1_score"
   ]
  },
  {
   "cell_type": "markdown",
   "source": [
    "# Wczytanie danych"
   ],
   "metadata": {
    "collapsed": false
   }
  },
  {
   "cell_type": "code",
   "execution_count": 46,
   "outputs": [],
   "source": [
    "proba_bay = pd.read_csv(\"y_pred_proba_bay.csv\")\n",
    "proba_rf = pd.read_csv(\"y_pred_proba_rf.csv\")\n",
    "proba_knn = pd.read_csv(\"y_pred_proba_knn.csv\")\n",
    "y_test = pd.read_csv(\"y_test.csv\")\n",
    "X_fake = pd.read_csv(\"fake_data.csv\")"
   ],
   "metadata": {
    "collapsed": false,
    "ExecuteTime": {
     "end_time": "2023-06-11T19:06:15.403763800Z",
     "start_time": "2023-06-11T19:06:15.275045600Z"
    }
   }
  },
  {
   "cell_type": "markdown",
   "source": [
    "# Obliczenie prawdopodobieństwa dla każdej klasy\n",
    "Tworzenie modelu hybrydowego na podstawie prawdopodobieństwa dla każdej klasy z modeli bazowych"
   ],
   "metadata": {
    "collapsed": false
   }
  },
  {
   "cell_type": "code",
   "execution_count": 47,
   "outputs": [
    {
     "data": {
      "text/plain": "              0         1         2\n0      0.215339  0.080818  0.037176\n1      0.276775  0.021050  0.035508\n2      0.050054  0.059396  0.223883\n3      0.310572  0.004726  0.018035\n4      0.034777  0.004167  0.294390\n...         ...       ...       ...\n19996  0.110305  0.041694  0.181335\n19997  0.304306  0.005211  0.023816\n19998  0.313215  0.004722  0.015396\n19999  0.088011  0.221107  0.024215\n20000  0.294055  0.028846  0.010433\n\n[20001 rows x 3 columns]",
      "text/html": "<div>\n<style scoped>\n    .dataframe tbody tr th:only-of-type {\n        vertical-align: middle;\n    }\n\n    .dataframe tbody tr th {\n        vertical-align: top;\n    }\n\n    .dataframe thead th {\n        text-align: right;\n    }\n</style>\n<table border=\"1\" class=\"dataframe\">\n  <thead>\n    <tr style=\"text-align: right;\">\n      <th></th>\n      <th>0</th>\n      <th>1</th>\n      <th>2</th>\n    </tr>\n  </thead>\n  <tbody>\n    <tr>\n      <th>0</th>\n      <td>0.215339</td>\n      <td>0.080818</td>\n      <td>0.037176</td>\n    </tr>\n    <tr>\n      <th>1</th>\n      <td>0.276775</td>\n      <td>0.021050</td>\n      <td>0.035508</td>\n    </tr>\n    <tr>\n      <th>2</th>\n      <td>0.050054</td>\n      <td>0.059396</td>\n      <td>0.223883</td>\n    </tr>\n    <tr>\n      <th>3</th>\n      <td>0.310572</td>\n      <td>0.004726</td>\n      <td>0.018035</td>\n    </tr>\n    <tr>\n      <th>4</th>\n      <td>0.034777</td>\n      <td>0.004167</td>\n      <td>0.294390</td>\n    </tr>\n    <tr>\n      <th>...</th>\n      <td>...</td>\n      <td>...</td>\n      <td>...</td>\n    </tr>\n    <tr>\n      <th>19996</th>\n      <td>0.110305</td>\n      <td>0.041694</td>\n      <td>0.181335</td>\n    </tr>\n    <tr>\n      <th>19997</th>\n      <td>0.304306</td>\n      <td>0.005211</td>\n      <td>0.023816</td>\n    </tr>\n    <tr>\n      <th>19998</th>\n      <td>0.313215</td>\n      <td>0.004722</td>\n      <td>0.015396</td>\n    </tr>\n    <tr>\n      <th>19999</th>\n      <td>0.088011</td>\n      <td>0.221107</td>\n      <td>0.024215</td>\n    </tr>\n    <tr>\n      <th>20000</th>\n      <td>0.294055</td>\n      <td>0.028846</td>\n      <td>0.010433</td>\n    </tr>\n  </tbody>\n</table>\n<p>20001 rows × 3 columns</p>\n</div>"
     },
     "execution_count": 47,
     "metadata": {},
     "output_type": "execute_result"
    }
   ],
   "source": [
    "w_bay = 0.15\n",
    "w_rf = 0.6\n",
    "w_knn = 0.25\n",
    "proba = (proba_bay*w_bay + proba_rf*w_rf + proba_knn*w_knn)/3\n",
    "proba"
   ],
   "metadata": {
    "collapsed": false,
    "ExecuteTime": {
     "end_time": "2023-06-11T19:06:15.403763800Z",
     "start_time": "2023-06-11T19:06:15.325187100Z"
    }
   }
  },
  {
   "cell_type": "markdown",
   "source": [
    "# Predykcja klasy na podstswie prawdopodobieństwa"
   ],
   "metadata": {
    "collapsed": false
   }
  },
  {
   "cell_type": "code",
   "execution_count": 48,
   "outputs": [
    {
     "data": {
      "text/plain": "0        0\n1        0\n2        2\n3        0\n4        2\n        ..\n19996    2\n19997    0\n19998    0\n19999    1\n20000    0\nLength: 20001, dtype: int32"
     },
     "execution_count": 48,
     "metadata": {},
     "output_type": "execute_result"
    }
   ],
   "source": [
    "y_pred = proba[['0', '1','2']].apply(lambda x: x.idxmax(), axis=1)\n",
    "y_pred = y_pred.astype(int)\n",
    "y_pred"
   ],
   "metadata": {
    "collapsed": false,
    "ExecuteTime": {
     "end_time": "2023-06-11T19:06:16.210439700Z",
     "start_time": "2023-06-11T19:06:15.346892800Z"
    }
   }
  },
  {
   "cell_type": "markdown",
   "source": [
    "# Accuracy"
   ],
   "metadata": {
    "collapsed": false
   }
  },
  {
   "cell_type": "code",
   "execution_count": 49,
   "outputs": [
    {
     "name": "stdout",
     "output_type": "stream",
     "text": [
      "Accuracy: 0.9736513174341282\n"
     ]
    }
   ],
   "source": [
    "accuracy = accuracy_score(y_test, y_pred)\n",
    "print(\"Accuracy:\", accuracy)"
   ],
   "metadata": {
    "collapsed": false,
    "ExecuteTime": {
     "end_time": "2023-06-11T19:06:16.263992100Z",
     "start_time": "2023-06-11T19:06:16.213333500Z"
    }
   }
  },
  {
   "cell_type": "markdown",
   "source": [
    "# F1"
   ],
   "metadata": {
    "collapsed": false
   }
  },
  {
   "cell_type": "code",
   "execution_count": 50,
   "outputs": [
    {
     "name": "stdout",
     "output_type": "stream",
     "text": [
      "F1: 0.9688265369507288\n"
     ]
    }
   ],
   "source": [
    "f1 = f1_score(y_test, y_pred, average='macro')\n",
    "print(\"F1:\", f1)"
   ],
   "metadata": {
    "collapsed": false,
    "ExecuteTime": {
     "end_time": "2023-06-11T19:06:16.301046Z",
     "start_time": "2023-06-11T19:06:16.232170700Z"
    }
   }
  },
  {
   "cell_type": "markdown",
   "source": [
    "# Confusion matrix"
   ],
   "metadata": {
    "collapsed": false
   }
  },
  {
   "cell_type": "code",
   "execution_count": 51,
   "outputs": [
    {
     "data": {
      "text/plain": "array([[11760,   109,    48],\n       [  362,  3377,     0],\n       [    8,     0,  4337]], dtype=int64)"
     },
     "execution_count": 51,
     "metadata": {},
     "output_type": "execute_result"
    }
   ],
   "source": [
    "confusion_matrix(y_test, y_pred)"
   ],
   "metadata": {
    "collapsed": false,
    "ExecuteTime": {
     "end_time": "2023-06-11T19:06:16.410444700Z",
     "start_time": "2023-06-11T19:06:16.267990700Z"
    }
   }
  },
  {
   "cell_type": "markdown",
   "source": [
    "# Sprawdzenie na sztucznych danych"
   ],
   "metadata": {
    "collapsed": false
   }
  },
  {
   "cell_type": "code",
   "execution_count": 52,
   "outputs": [
    {
     "data": {
      "text/plain": "0        0\n1        0\n2        2\n3        0\n4        2\n        ..\n19996    2\n19997    0\n19998    0\n19999    1\n20000    0\nLength: 20001, dtype: int32"
     },
     "execution_count": 52,
     "metadata": {},
     "output_type": "execute_result"
    }
   ],
   "source": [
    "y_pred_f = proba[['0', '1','2']].apply(lambda x: x.idxmax(), axis=1)\n",
    "y_pred_f = y_pred.astype(int)\n",
    "y_pred_f"
   ],
   "metadata": {
    "collapsed": false,
    "ExecuteTime": {
     "end_time": "2023-06-11T19:06:17.076685Z",
     "start_time": "2023-06-11T19:06:16.351279300Z"
    }
   }
  }
 ],
 "metadata": {
  "kernelspec": {
   "display_name": "Python 3",
   "language": "python",
   "name": "python3"
  },
  "language_info": {
   "codemirror_mode": {
    "name": "ipython",
    "version": 2
   },
   "file_extension": ".py",
   "mimetype": "text/x-python",
   "name": "python",
   "nbconvert_exporter": "python",
   "pygments_lexer": "ipython2",
   "version": "2.7.6"
  }
 },
 "nbformat": 4,
 "nbformat_minor": 0
}
