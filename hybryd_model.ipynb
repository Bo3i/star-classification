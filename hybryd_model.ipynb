{
 "cells": [
  {
   "cell_type": "code",
   "execution_count": 1,
   "metadata": {
    "collapsed": true,
    "ExecuteTime": {
     "end_time": "2023-06-11T08:50:30.205615Z",
     "start_time": "2023-06-11T08:50:29.050144200Z"
    }
   },
   "outputs": [],
   "source": [
    "import pandas as pd\n",
    "from sklearn.metrics import accuracy_score\n",
    "from sklearn.metrics import confusion_matrix\n",
    "from sklearn.metrics import f1_score"
   ]
  },
  {
   "cell_type": "code",
   "execution_count": 2,
   "outputs": [],
   "source": [
    "proba_bay = pd.read_csv(\"y_pred_proba_bay.csv\")\n",
    "proba_rf = pd.read_csv(\"y_pred_proba_rf.csv\")\n",
    "proba_knn = pd.read_csv(\"y_pred_proba_knn.csv\")\n",
    "y_test = pd.read_csv(\"y_test.csv\")"
   ],
   "metadata": {
    "collapsed": false,
    "ExecuteTime": {
     "end_time": "2023-06-11T08:50:30.254691400Z",
     "start_time": "2023-06-11T08:50:30.208616700Z"
    }
   }
  },
  {
   "cell_type": "code",
   "execution_count": 3,
   "outputs": [
    {
     "data": {
      "text/plain": "              0         1         2\n0      0.221933  0.079345  0.032055\n1      0.276822  0.021036  0.035475\n2      0.049610  0.058409  0.225315\n3      0.308325  0.004445  0.020563\n4      0.040614  0.004326  0.288394\n...         ...       ...       ...\n19996  0.115348  0.042143  0.175843\n19997  0.303720  0.004871  0.024743\n19998  0.312273  0.004364  0.016697\n19999  0.085673  0.224834  0.022826\n20000  0.294464  0.028567  0.010302\n\n[20001 rows x 3 columns]",
      "text/html": "<div>\n<style scoped>\n    .dataframe tbody tr th:only-of-type {\n        vertical-align: middle;\n    }\n\n    .dataframe tbody tr th {\n        vertical-align: top;\n    }\n\n    .dataframe thead th {\n        text-align: right;\n    }\n</style>\n<table border=\"1\" class=\"dataframe\">\n  <thead>\n    <tr style=\"text-align: right;\">\n      <th></th>\n      <th>0</th>\n      <th>1</th>\n      <th>2</th>\n    </tr>\n  </thead>\n  <tbody>\n    <tr>\n      <th>0</th>\n      <td>0.221933</td>\n      <td>0.079345</td>\n      <td>0.032055</td>\n    </tr>\n    <tr>\n      <th>1</th>\n      <td>0.276822</td>\n      <td>0.021036</td>\n      <td>0.035475</td>\n    </tr>\n    <tr>\n      <th>2</th>\n      <td>0.049610</td>\n      <td>0.058409</td>\n      <td>0.225315</td>\n    </tr>\n    <tr>\n      <th>3</th>\n      <td>0.308325</td>\n      <td>0.004445</td>\n      <td>0.020563</td>\n    </tr>\n    <tr>\n      <th>4</th>\n      <td>0.040614</td>\n      <td>0.004326</td>\n      <td>0.288394</td>\n    </tr>\n    <tr>\n      <th>...</th>\n      <td>...</td>\n      <td>...</td>\n      <td>...</td>\n    </tr>\n    <tr>\n      <th>19996</th>\n      <td>0.115348</td>\n      <td>0.042143</td>\n      <td>0.175843</td>\n    </tr>\n    <tr>\n      <th>19997</th>\n      <td>0.303720</td>\n      <td>0.004871</td>\n      <td>0.024743</td>\n    </tr>\n    <tr>\n      <th>19998</th>\n      <td>0.312273</td>\n      <td>0.004364</td>\n      <td>0.016697</td>\n    </tr>\n    <tr>\n      <th>19999</th>\n      <td>0.085673</td>\n      <td>0.224834</td>\n      <td>0.022826</td>\n    </tr>\n    <tr>\n      <th>20000</th>\n      <td>0.294464</td>\n      <td>0.028567</td>\n      <td>0.010302</td>\n    </tr>\n  </tbody>\n</table>\n<p>20001 rows × 3 columns</p>\n</div>"
     },
     "execution_count": 3,
     "metadata": {},
     "output_type": "execute_result"
    }
   ],
   "source": [
    "w_bay = 0.15\n",
    "w_rf = 0.6\n",
    "w_knn = 0.25\n",
    "proba = (proba_bay*w_bay + proba_rf*w_rf + proba_knn*w_knn)/3\n",
    "proba"
   ],
   "metadata": {
    "collapsed": false,
    "ExecuteTime": {
     "end_time": "2023-06-11T08:50:30.272407900Z",
     "start_time": "2023-06-11T08:50:30.254691400Z"
    }
   }
  },
  {
   "cell_type": "code",
   "execution_count": 4,
   "outputs": [
    {
     "data": {
      "text/plain": "0        0\n1        0\n2        2\n3        0\n4        2\n        ..\n19996    2\n19997    0\n19998    0\n19999    1\n20000    0\nLength: 20001, dtype: int32"
     },
     "execution_count": 4,
     "metadata": {},
     "output_type": "execute_result"
    }
   ],
   "source": [
    "#predicting the class\n",
    "y_pred = proba[['0', '1','2']].apply(lambda x: x.idxmax(), axis=1)\n",
    "y_pred = y_pred.astype(int)\n",
    "y_pred\n"
   ],
   "metadata": {
    "collapsed": false,
    "ExecuteTime": {
     "end_time": "2023-06-11T08:50:31.114154800Z",
     "start_time": "2023-06-11T08:50:30.272407900Z"
    }
   }
  },
  {
   "cell_type": "code",
   "execution_count": 5,
   "outputs": [
    {
     "name": "stdout",
     "output_type": "stream",
     "text": [
      "Accuracy: 0.9732013399330034\n"
     ]
    }
   ],
   "source": [
    "#calculating the accuracy\n",
    "accuracy = accuracy_score(y_test, y_pred)\n",
    "print(\"Accuracy:\", accuracy)"
   ],
   "metadata": {
    "collapsed": false,
    "ExecuteTime": {
     "end_time": "2023-06-11T08:50:31.124950100Z",
     "start_time": "2023-06-11T08:50:31.115156300Z"
    }
   }
  },
  {
   "cell_type": "code",
   "execution_count": 6,
   "outputs": [
    {
     "name": "stdout",
     "output_type": "stream",
     "text": [
      "F1: 0.9683268956907608\n"
     ]
    }
   ],
   "source": [
    "f1 = f1_score(y_test, y_pred, average='macro')\n",
    "print(\"F1:\", f1)"
   ],
   "metadata": {
    "collapsed": false,
    "ExecuteTime": {
     "end_time": "2023-06-11T08:50:31.160183100Z",
     "start_time": "2023-06-11T08:50:31.125950800Z"
    }
   }
  },
  {
   "cell_type": "code",
   "execution_count": 7,
   "outputs": [
    {
     "data": {
      "text/plain": "array([[11749,   117,    51],\n       [  361,  3378,     0],\n       [    7,     0,  4338]], dtype=int64)"
     },
     "execution_count": 7,
     "metadata": {},
     "output_type": "execute_result"
    }
   ],
   "source": [
    "confusion_matrix(y_test, y_pred)"
   ],
   "metadata": {
    "collapsed": false,
    "ExecuteTime": {
     "end_time": "2023-06-11T08:50:31.184192700Z",
     "start_time": "2023-06-11T08:50:31.139927500Z"
    }
   }
  }
 ],
 "metadata": {
  "kernelspec": {
   "display_name": "Python 3",
   "language": "python",
   "name": "python3"
  },
  "language_info": {
   "codemirror_mode": {
    "name": "ipython",
    "version": 2
   },
   "file_extension": ".py",
   "mimetype": "text/x-python",
   "name": "python",
   "nbconvert_exporter": "python",
   "pygments_lexer": "ipython2",
   "version": "2.7.6"
  }
 },
 "nbformat": 4,
 "nbformat_minor": 0
}
