{
 "cells": [
  {
   "cell_type": "code",
   "execution_count": 37,
   "metadata": {
    "collapsed": true,
    "ExecuteTime": {
     "end_time": "2023-06-03T10:51:52.782241200Z",
     "start_time": "2023-06-03T10:51:52.774823900Z"
    }
   },
   "outputs": [],
   "source": [
    "import pandas as pd\n",
    "from sklearn.metrics import accuracy_score"
   ]
  },
  {
   "cell_type": "code",
   "execution_count": 38,
   "outputs": [],
   "source": [
    "proba_bay = pd.read_csv(\"y_pred_proba_bay.csv\")\n",
    "proba_rf = pd.read_csv(\"y_pred_proba_rf.csv\")\n",
    "proba_knn = pd.read_csv(\"y_pred_proba_knn.csv\")\n",
    "y_test = pd.read_csv(\"y_test.csv\")"
   ],
   "metadata": {
    "collapsed": false,
    "ExecuteTime": {
     "end_time": "2023-06-03T10:51:52.852764300Z",
     "start_time": "2023-06-03T10:51:52.779239600Z"
    }
   }
  },
  {
   "cell_type": "code",
   "execution_count": 39,
   "outputs": [
    {
     "data": {
      "text/plain": "              0         1         2\n0      0.447330  0.469752  0.082917\n1      0.595767  0.202278  0.201956\n2      0.618403  0.145566  0.236031\n3      0.647611  0.058090  0.294299\n4      0.639303  0.082229  0.278469\n...         ...       ...       ...\n19996  0.556024  0.286592  0.157385\n19997  0.646285  0.061949  0.291766\n19998  0.647136  0.059647  0.293217\n19999  0.588148  0.219812  0.192041\n20000  0.595690  0.202456  0.201854\n\n[20001 rows x 3 columns]",
      "text/html": "<div>\n<style scoped>\n    .dataframe tbody tr th:only-of-type {\n        vertical-align: middle;\n    }\n\n    .dataframe tbody tr th {\n        vertical-align: top;\n    }\n\n    .dataframe thead th {\n        text-align: right;\n    }\n</style>\n<table border=\"1\" class=\"dataframe\">\n  <thead>\n    <tr style=\"text-align: right;\">\n      <th></th>\n      <th>0</th>\n      <th>1</th>\n      <th>2</th>\n    </tr>\n  </thead>\n  <tbody>\n    <tr>\n      <th>0</th>\n      <td>0.447330</td>\n      <td>0.469752</td>\n      <td>0.082917</td>\n    </tr>\n    <tr>\n      <th>1</th>\n      <td>0.595767</td>\n      <td>0.202278</td>\n      <td>0.201956</td>\n    </tr>\n    <tr>\n      <th>2</th>\n      <td>0.618403</td>\n      <td>0.145566</td>\n      <td>0.236031</td>\n    </tr>\n    <tr>\n      <th>3</th>\n      <td>0.647611</td>\n      <td>0.058090</td>\n      <td>0.294299</td>\n    </tr>\n    <tr>\n      <th>4</th>\n      <td>0.639303</td>\n      <td>0.082229</td>\n      <td>0.278469</td>\n    </tr>\n    <tr>\n      <th>...</th>\n      <td>...</td>\n      <td>...</td>\n      <td>...</td>\n    </tr>\n    <tr>\n      <th>19996</th>\n      <td>0.556024</td>\n      <td>0.286592</td>\n      <td>0.157385</td>\n    </tr>\n    <tr>\n      <th>19997</th>\n      <td>0.646285</td>\n      <td>0.061949</td>\n      <td>0.291766</td>\n    </tr>\n    <tr>\n      <th>19998</th>\n      <td>0.647136</td>\n      <td>0.059647</td>\n      <td>0.293217</td>\n    </tr>\n    <tr>\n      <th>19999</th>\n      <td>0.588148</td>\n      <td>0.219812</td>\n      <td>0.192041</td>\n    </tr>\n    <tr>\n      <th>20000</th>\n      <td>0.595690</td>\n      <td>0.202456</td>\n      <td>0.201854</td>\n    </tr>\n  </tbody>\n</table>\n<p>20001 rows × 3 columns</p>\n</div>"
     },
     "execution_count": 39,
     "metadata": {},
     "output_type": "execute_result"
    }
   ],
   "source": [
    "proba_bay"
   ],
   "metadata": {
    "collapsed": false,
    "ExecuteTime": {
     "end_time": "2023-06-03T10:51:52.866115200Z",
     "start_time": "2023-06-03T10:51:52.853765200Z"
    }
   }
  },
  {
   "cell_type": "code",
   "execution_count": 56,
   "outputs": [
    {
     "data": {
      "text/plain": "              0         1         2\n0      0.213668  0.078837  0.040828\n1      0.276861  0.020924  0.035548\n2      0.049122  0.055338  0.228873\n3      0.313755  0.004314  0.015265\n4      0.032946  0.004172  0.296215\n...         ...       ...       ...\n19996  0.105007  0.041372  0.186955\n19997  0.304750  0.004810  0.023773\n19998  0.313557  0.004463  0.015313\n19999  0.086666  0.225928  0.020739\n20000  0.294128  0.028713  0.010492\n\n[20001 rows x 3 columns]",
      "text/html": "<div>\n<style scoped>\n    .dataframe tbody tr th:only-of-type {\n        vertical-align: middle;\n    }\n\n    .dataframe tbody tr th {\n        vertical-align: top;\n    }\n\n    .dataframe thead th {\n        text-align: right;\n    }\n</style>\n<table border=\"1\" class=\"dataframe\">\n  <thead>\n    <tr style=\"text-align: right;\">\n      <th></th>\n      <th>0</th>\n      <th>1</th>\n      <th>2</th>\n    </tr>\n  </thead>\n  <tbody>\n    <tr>\n      <th>0</th>\n      <td>0.213668</td>\n      <td>0.078837</td>\n      <td>0.040828</td>\n    </tr>\n    <tr>\n      <th>1</th>\n      <td>0.276861</td>\n      <td>0.020924</td>\n      <td>0.035548</td>\n    </tr>\n    <tr>\n      <th>2</th>\n      <td>0.049122</td>\n      <td>0.055338</td>\n      <td>0.228873</td>\n    </tr>\n    <tr>\n      <th>3</th>\n      <td>0.313755</td>\n      <td>0.004314</td>\n      <td>0.015265</td>\n    </tr>\n    <tr>\n      <th>4</th>\n      <td>0.032946</td>\n      <td>0.004172</td>\n      <td>0.296215</td>\n    </tr>\n    <tr>\n      <th>...</th>\n      <td>...</td>\n      <td>...</td>\n      <td>...</td>\n    </tr>\n    <tr>\n      <th>19996</th>\n      <td>0.105007</td>\n      <td>0.041372</td>\n      <td>0.186955</td>\n    </tr>\n    <tr>\n      <th>19997</th>\n      <td>0.304750</td>\n      <td>0.004810</td>\n      <td>0.023773</td>\n    </tr>\n    <tr>\n      <th>19998</th>\n      <td>0.313557</td>\n      <td>0.004463</td>\n      <td>0.015313</td>\n    </tr>\n    <tr>\n      <th>19999</th>\n      <td>0.086666</td>\n      <td>0.225928</td>\n      <td>0.020739</td>\n    </tr>\n    <tr>\n      <th>20000</th>\n      <td>0.294128</td>\n      <td>0.028713</td>\n      <td>0.010492</td>\n    </tr>\n  </tbody>\n</table>\n<p>20001 rows × 3 columns</p>\n</div>"
     },
     "execution_count": 56,
     "metadata": {},
     "output_type": "execute_result"
    }
   ],
   "source": [
    "#calculating the weighted average of the probabilities\n",
    "w_bay = 0.15\n",
    "w_rf = 0.6\n",
    "w_knn = 0.25\n",
    "proba = (proba_bay*w_bay + proba_rf*w_rf + proba_knn*w_knn)/3\n",
    "proba"
   ],
   "metadata": {
    "collapsed": false,
    "ExecuteTime": {
     "end_time": "2023-06-03T10:55:02.045547Z",
     "start_time": "2023-06-03T10:55:02.032594900Z"
    }
   }
  },
  {
   "cell_type": "code",
   "execution_count": 41,
   "outputs": [
    {
     "name": "stdout",
     "output_type": "stream",
     "text": [
      "Index(['0', '1', '2'], dtype='object')\n"
     ]
    }
   ],
   "source": [
    "#print proba classes\n",
    "print(proba.columns)\n"
   ],
   "metadata": {
    "collapsed": false,
    "ExecuteTime": {
     "end_time": "2023-06-03T10:51:52.945782200Z",
     "start_time": "2023-06-03T10:51:52.886421400Z"
    }
   }
  },
  {
   "cell_type": "code",
   "execution_count": 57,
   "outputs": [
    {
     "data": {
      "text/plain": "0        0\n1        0\n2        2\n3        0\n4        2\n        ..\n19996    2\n19997    0\n19998    0\n19999    1\n20000    0\nLength: 20001, dtype: int32"
     },
     "execution_count": 57,
     "metadata": {},
     "output_type": "execute_result"
    }
   ],
   "source": [
    "#predicting the class\n",
    "y_pred = proba[['0', '1','2']].apply(lambda x: x.idxmax(), axis=1)\n",
    "y_pred = y_pred.astype(int)\n",
    "y_pred\n"
   ],
   "metadata": {
    "collapsed": false,
    "ExecuteTime": {
     "end_time": "2023-06-03T10:55:05.117257300Z",
     "start_time": "2023-06-03T10:55:04.197550100Z"
    }
   }
  },
  {
   "cell_type": "code",
   "execution_count": 58,
   "outputs": [
    {
     "name": "stdout",
     "output_type": "stream",
     "text": [
      "Accuracy: 0.9738013099345033\n"
     ]
    }
   ],
   "source": [
    "#calculating the accuracy\n",
    "accuracy = accuracy_score(y_test, y_pred)\n",
    "print(\"Accuracy:\", accuracy)"
   ],
   "metadata": {
    "collapsed": false,
    "ExecuteTime": {
     "end_time": "2023-06-03T10:55:07.540678300Z",
     "start_time": "2023-06-03T10:55:07.533363700Z"
    }
   }
  }
 ],
 "metadata": {
  "kernelspec": {
   "display_name": "Python 3",
   "language": "python",
   "name": "python3"
  },
  "language_info": {
   "codemirror_mode": {
    "name": "ipython",
    "version": 2
   },
   "file_extension": ".py",
   "mimetype": "text/x-python",
   "name": "python",
   "nbconvert_exporter": "python",
   "pygments_lexer": "ipython2",
   "version": "2.7.6"
  }
 },
 "nbformat": 4,
 "nbformat_minor": 0
}
