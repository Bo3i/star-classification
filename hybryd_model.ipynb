{
 "cells": [
  {
   "cell_type": "markdown",
   "source": [
    "# MODEL HYBRYDOWY\n",
    "Importownie bibliotek"
   ],
   "metadata": {
    "collapsed": false
   }
  },
  {
   "cell_type": "code",
   "execution_count": 1,
   "metadata": {
    "collapsed": true,
    "ExecuteTime": {
     "end_time": "2023-06-16T15:08:42.141393100Z",
     "start_time": "2023-06-16T15:08:41.827808400Z"
    }
   },
   "outputs": [],
   "source": [
    "import pandas as pd\n",
    "from sklearn.metrics import accuracy_score\n",
    "from sklearn.metrics import confusion_matrix\n",
    "from sklearn.metrics import f1_score"
   ]
  },
  {
   "cell_type": "markdown",
   "source": [
    "# Wczytanie danych"
   ],
   "metadata": {
    "collapsed": false
   }
  },
  {
   "cell_type": "code",
   "execution_count": 2,
   "outputs": [],
   "source": [
    "proba_bay = pd.read_csv(\"y_pred_proba_bay.csv\")\n",
    "proba_rf = pd.read_csv(\"y_pred_proba_rf.csv\")\n",
    "proba_knn = pd.read_csv(\"y_pred_proba_knn.csv\")\n",
    "y_test = pd.read_csv(\"y_test.csv\")"
   ],
   "metadata": {
    "collapsed": false,
    "ExecuteTime": {
     "end_time": "2023-06-16T15:08:42.190196500Z",
     "start_time": "2023-06-16T15:08:42.143394200Z"
    }
   }
  },
  {
   "cell_type": "markdown",
   "source": [
    "# Tworzenie modelu hybrydowego\n",
    "Przypisujemy wagę do każdego modelu"
   ],
   "metadata": {
    "collapsed": false
   }
  },
  {
   "cell_type": "code",
   "execution_count": 3,
   "outputs": [
    {
     "data": {
      "text/plain": "              0         1         2\n0      0.217495  0.081944  0.033895\n1      0.276885  0.021078  0.035370\n2      0.048152  0.055634  0.229547\n3      0.312132  0.005047  0.016154\n4      0.035496  0.004355  0.293483\n...         ...       ...       ...\n19996  0.097693  0.040353  0.195287\n19997  0.304769  0.004802  0.023763\n19998  0.313625  0.004440  0.015269\n19999  0.082822  0.231719  0.018793\n20000  0.294399  0.028664  0.010271\n\n[20001 rows x 3 columns]",
      "text/html": "<div>\n<style scoped>\n    .dataframe tbody tr th:only-of-type {\n        vertical-align: middle;\n    }\n\n    .dataframe tbody tr th {\n        vertical-align: top;\n    }\n\n    .dataframe thead th {\n        text-align: right;\n    }\n</style>\n<table border=\"1\" class=\"dataframe\">\n  <thead>\n    <tr style=\"text-align: right;\">\n      <th></th>\n      <th>0</th>\n      <th>1</th>\n      <th>2</th>\n    </tr>\n  </thead>\n  <tbody>\n    <tr>\n      <th>0</th>\n      <td>0.217495</td>\n      <td>0.081944</td>\n      <td>0.033895</td>\n    </tr>\n    <tr>\n      <th>1</th>\n      <td>0.276885</td>\n      <td>0.021078</td>\n      <td>0.035370</td>\n    </tr>\n    <tr>\n      <th>2</th>\n      <td>0.048152</td>\n      <td>0.055634</td>\n      <td>0.229547</td>\n    </tr>\n    <tr>\n      <th>3</th>\n      <td>0.312132</td>\n      <td>0.005047</td>\n      <td>0.016154</td>\n    </tr>\n    <tr>\n      <th>4</th>\n      <td>0.035496</td>\n      <td>0.004355</td>\n      <td>0.293483</td>\n    </tr>\n    <tr>\n      <th>...</th>\n      <td>...</td>\n      <td>...</td>\n      <td>...</td>\n    </tr>\n    <tr>\n      <th>19996</th>\n      <td>0.097693</td>\n      <td>0.040353</td>\n      <td>0.195287</td>\n    </tr>\n    <tr>\n      <th>19997</th>\n      <td>0.304769</td>\n      <td>0.004802</td>\n      <td>0.023763</td>\n    </tr>\n    <tr>\n      <th>19998</th>\n      <td>0.313625</td>\n      <td>0.004440</td>\n      <td>0.015269</td>\n    </tr>\n    <tr>\n      <th>19999</th>\n      <td>0.082822</td>\n      <td>0.231719</td>\n      <td>0.018793</td>\n    </tr>\n    <tr>\n      <th>20000</th>\n      <td>0.294399</td>\n      <td>0.028664</td>\n      <td>0.010271</td>\n    </tr>\n  </tbody>\n</table>\n<p>20001 rows × 3 columns</p>\n</div>"
     },
     "execution_count": 3,
     "metadata": {},
     "output_type": "execute_result"
    }
   ],
   "source": [
    "w_bay = 0.15\n",
    "w_rf = 0.6\n",
    "w_knn = 0.25\n",
    "proba = (proba_bay*w_bay + proba_rf*w_rf + proba_knn*w_knn)/3\n",
    "proba"
   ],
   "metadata": {
    "collapsed": false,
    "ExecuteTime": {
     "end_time": "2023-06-16T15:08:42.207854900Z",
     "start_time": "2023-06-16T15:08:42.191197100Z"
    }
   }
  },
  {
   "cell_type": "markdown",
   "source": [
    "# Predykcje"
   ],
   "metadata": {
    "collapsed": false
   }
  },
  {
   "cell_type": "code",
   "execution_count": 4,
   "outputs": [
    {
     "data": {
      "text/plain": "0        0\n1        0\n2        2\n3        0\n4        2\n        ..\n19996    2\n19997    0\n19998    0\n19999    1\n20000    0\nLength: 20001, dtype: int32"
     },
     "execution_count": 4,
     "metadata": {},
     "output_type": "execute_result"
    }
   ],
   "source": [
    "y_pred = proba[['0', '1','2']].apply(lambda x: x.idxmax(), axis=1)\n",
    "y_pred = y_pred.astype(int)\n",
    "y_pred"
   ],
   "metadata": {
    "collapsed": false,
    "ExecuteTime": {
     "end_time": "2023-06-16T15:08:43.143309700Z",
     "start_time": "2023-06-16T15:08:42.207854900Z"
    }
   }
  },
  {
   "cell_type": "markdown",
   "source": [
    "# Accuracy score"
   ],
   "metadata": {
    "collapsed": false
   }
  },
  {
   "cell_type": "code",
   "execution_count": 5,
   "outputs": [
    {
     "name": "stdout",
     "output_type": "stream",
     "text": [
      "Accuracy: 0.9748512574371282\n"
     ]
    }
   ],
   "source": [
    "accuracy = accuracy_score(y_test, y_pred)\n",
    "print(\"Accuracy:\", accuracy)"
   ],
   "metadata": {
    "collapsed": false,
    "ExecuteTime": {
     "end_time": "2023-06-16T15:08:43.154145Z",
     "start_time": "2023-06-16T15:08:43.144308900Z"
    }
   }
  },
  {
   "cell_type": "markdown",
   "source": [
    "# F1 score"
   ],
   "metadata": {
    "collapsed": false
   }
  },
  {
   "cell_type": "code",
   "execution_count": 6,
   "outputs": [
    {
     "name": "stdout",
     "output_type": "stream",
     "text": [
      "F1: 0.9701981907218976\n"
     ]
    }
   ],
   "source": [
    "f1 = f1_score(y_test, y_pred, average='macro')\n",
    "print(\"F1:\", f1)"
   ],
   "metadata": {
    "collapsed": false,
    "ExecuteTime": {
     "end_time": "2023-06-16T15:08:43.169782700Z",
     "start_time": "2023-06-16T15:08:43.153144600Z"
    }
   }
  },
  {
   "cell_type": "markdown",
   "source": [
    "# Confusion matrix"
   ],
   "metadata": {
    "collapsed": false
   }
  },
  {
   "cell_type": "code",
   "execution_count": 7,
   "outputs": [
    {
     "data": {
      "text/plain": "array([[11771,   108,    38],\n       [  351,  3388,     0],\n       [    6,     0,  4339]], dtype=int64)"
     },
     "execution_count": 7,
     "metadata": {},
     "output_type": "execute_result"
    }
   ],
   "source": [
    "confusion_matrix(y_test, y_pred)"
   ],
   "metadata": {
    "collapsed": false,
    "ExecuteTime": {
     "end_time": "2023-06-16T15:08:43.223872200Z",
     "start_time": "2023-06-16T15:08:43.169782700Z"
    }
   }
  }
 ],
 "metadata": {
  "kernelspec": {
   "display_name": "Python 3",
   "language": "python",
   "name": "python3"
  },
  "language_info": {
   "codemirror_mode": {
    "name": "ipython",
    "version": 2
   },
   "file_extension": ".py",
   "mimetype": "text/x-python",
   "name": "python",
   "nbconvert_exporter": "python",
   "pygments_lexer": "ipython2",
   "version": "2.7.6"
  }
 },
 "nbformat": 4,
 "nbformat_minor": 0
}
